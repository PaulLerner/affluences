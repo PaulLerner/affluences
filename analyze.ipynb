{
 "cells": [
  {
   "cell_type": "code",
   "execution_count": null,
   "id": "f589ee73-a2d0-4044-85a9-ce8babe9e141",
   "metadata": {},
   "outputs": [],
   "source": [
    "import pandas as pd\n",
    "\n",
    "\n",
    "import datetime\n",
    "\n",
    "import seaborn as sns"
   ]
  },
  {
   "cell_type": "code",
   "execution_count": 11,
   "id": "9d1f2cfe-6fbe-4b2c-a18a-daf0da193b73",
   "metadata": {},
   "outputs": [],
   "source": [
    "data = pd.read_csv(\"../piscine-de-la-butte-aux-cailles.csv\", header=None, names = [\"affluence\",\"timestamp\"])"
   ]
  },
  {
   "cell_type": "code",
   "execution_count": 15,
   "id": "68160f4d-5f91-4b99-8d98-df51fa44b5b1",
   "metadata": {},
   "outputs": [
    {
     "data": {
      "text/html": [
       "<div>\n",
       "<style scoped>\n",
       "    .dataframe tbody tr th:only-of-type {\n",
       "        vertical-align: middle;\n",
       "    }\n",
       "\n",
       "    .dataframe tbody tr th {\n",
       "        vertical-align: top;\n",
       "    }\n",
       "\n",
       "    .dataframe thead th {\n",
       "        text-align: right;\n",
       "    }\n",
       "</style>\n",
       "<table border=\"1\" class=\"dataframe\">\n",
       "  <thead>\n",
       "    <tr style=\"text-align: right;\">\n",
       "      <th></th>\n",
       "      <th>affluence</th>\n",
       "      <th>timestamp</th>\n",
       "      <th>date</th>\n",
       "      <th>weekday</th>\n",
       "      <th>hour</th>\n",
       "    </tr>\n",
       "  </thead>\n",
       "  <tbody>\n",
       "    <tr>\n",
       "      <th>0</th>\n",
       "      <td>80</td>\n",
       "      <td>1.746198e+09</td>\n",
       "      <td>2025-05-02 17:07:55.304506</td>\n",
       "      <td>5</td>\n",
       "      <td>17</td>\n",
       "    </tr>\n",
       "    <tr>\n",
       "      <th>1</th>\n",
       "      <td>80</td>\n",
       "      <td>1.746199e+09</td>\n",
       "      <td>2025-05-02 17:17:56.188071</td>\n",
       "      <td>5</td>\n",
       "      <td>17</td>\n",
       "    </tr>\n",
       "    <tr>\n",
       "      <th>2</th>\n",
       "      <td>100</td>\n",
       "      <td>1.746200e+09</td>\n",
       "      <td>2025-05-02 17:27:57.181772</td>\n",
       "      <td>5</td>\n",
       "      <td>17</td>\n",
       "    </tr>\n",
       "    <tr>\n",
       "      <th>3</th>\n",
       "      <td>5</td>\n",
       "      <td>1.746200e+09</td>\n",
       "      <td>2025-05-02 17:37:58.453444</td>\n",
       "      <td>5</td>\n",
       "      <td>17</td>\n",
       "    </tr>\n",
       "    <tr>\n",
       "      <th>4</th>\n",
       "      <td>5</td>\n",
       "      <td>1.746201e+09</td>\n",
       "      <td>2025-05-02 17:48:00.203301</td>\n",
       "      <td>5</td>\n",
       "      <td>17</td>\n",
       "    </tr>\n",
       "    <tr>\n",
       "      <th>5</th>\n",
       "      <td>5</td>\n",
       "      <td>1.746201e+09</td>\n",
       "      <td>2025-05-02 17:58:01.803819</td>\n",
       "      <td>5</td>\n",
       "      <td>17</td>\n",
       "    </tr>\n",
       "  </tbody>\n",
       "</table>\n",
       "</div>"
      ],
      "text/plain": [
       "   affluence     timestamp                       date  weekday  hour\n",
       "0         80  1.746198e+09 2025-05-02 17:07:55.304506        5    17\n",
       "1         80  1.746199e+09 2025-05-02 17:17:56.188071        5    17\n",
       "2        100  1.746200e+09 2025-05-02 17:27:57.181772        5    17\n",
       "3          5  1.746200e+09 2025-05-02 17:37:58.453444        5    17\n",
       "4          5  1.746201e+09 2025-05-02 17:48:00.203301        5    17\n",
       "5          5  1.746201e+09 2025-05-02 17:58:01.803819        5    17"
      ]
     },
     "execution_count": 15,
     "metadata": {},
     "output_type": "execute_result"
    }
   ],
   "source": [
    "data[\"date\"] = [datetime.datetime.fromtimestamp(timestamp) for timestamp in data[\"timestamp\"]]\n",
    "data[\"weekday\"] = [datetime.datetime.isoweekday(date) for date in data[\"date\"]]\n",
    "data[\"hour\"] = [date.hour for date in data[\"date\"]]\n",
    "data"
   ]
  },
  {
   "cell_type": "code",
   "execution_count": 21,
   "id": "2dcf79ef-867b-4e64-8dbc-ca3fcf4d1a5d",
   "metadata": {},
   "outputs": [
    {
     "data": {
      "text/plain": [
       "<seaborn.axisgrid.FacetGrid at 0x7fbf38c0e1d0>"
      ]
     },
     "execution_count": 21,
     "metadata": {},
     "output_type": "execute_result"
    },
    {
     "data": {
      "image/png": "[encoded data removed]",
      "text/plain": [
       "<Figure size 573.361x500 with 1 Axes>"
      ]
     },
     "metadata": {},
     "output_type": "display_data"
    }
   ],
   "source": [
    "sns.relplot(data, y=\"affluence\", x=\"hour\", hue=\"weekday\", kind=\"line\", estimator=\"mean\")"
   ]
  }
 ],
 "metadata": {
  "kernelspec": {
   "display_name": "Python 3 (ipykernel)",
   "language": "python",
   "name": "python3"
  },
  "language_info": {
   "codemirror_mode": {
    "name": "ipython",
    "version": 3
   },
   "file_extension": ".py",
   "mimetype": "text/x-python",
   "name": "python",
   "nbconvert_exporter": "python",
   "pygments_lexer": "ipython3",
   "version": "3.11.12"
  }
 },
 "nbformat": 4,
 "nbformat_minor": 5
}
